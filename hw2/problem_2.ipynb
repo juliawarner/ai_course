{
  "nbformat": 4,
  "nbformat_minor": 0,
  "metadata": {
    "colab": {
      "name": "problem_2.ipynb",
      "provenance": [],
      "collapsed_sections": []
    },
    "kernelspec": {
      "name": "python3",
      "display_name": "Python 3"
    }
  },
  "cells": [
    {
      "cell_type": "markdown",
      "metadata": {
        "id": "mQbGCfq2KuQ5",
        "colab_type": "text"
      },
      "source": [
        "Julia Warner\n",
        "\n",
        "CAP 4630\n",
        "\n",
        "HW2, Problem 2"
      ]
    },
    {
      "cell_type": "code",
      "metadata": {
        "id": "drLrYkdJRd3K",
        "colab_type": "code",
        "outputId": "2e9cf8fe-1b23-408b-e101-96ef80cba3f6",
        "colab": {
          "base_uri": "https://localhost:8080/",
          "height": 63
        }
      },
      "source": [
        "import tensorflow as tf\n",
        "from tensorflow import keras\n",
        "import matplotlib.pyplot as plt\n",
        "import numpy as np"
      ],
      "execution_count": 0,
      "outputs": [
        {
          "output_type": "display_data",
          "data": {
            "text/html": [
              "<p style=\"color: red;\">\n",
              "The default version of TensorFlow in Colab will soon switch to TensorFlow 2.x.<br>\n",
              "We recommend you <a href=\"https://www.tensorflow.org/guide/migrate\" target=\"_blank\">upgrade</a> now \n",
              "or ensure your notebook will continue to use TensorFlow 1.x via the <code>%tensorflow_version 1.x</code> magic:\n",
              "<a href=\"https://colab.research.google.com/notebooks/tensorflow_version.ipynb\" target=\"_blank\">more info</a>.</p>\n"
            ],
            "text/plain": [
              "<IPython.core.display.HTML object>"
            ]
          },
          "metadata": {
            "tags": []
          }
        }
      ]
    },
    {
      "cell_type": "markdown",
      "metadata": {
        "id": "xSF183E7T62b",
        "colab_type": "text"
      },
      "source": [
        "## Import the MNIST fashion dataset"
      ]
    },
    {
      "cell_type": "code",
      "metadata": {
        "id": "VauF-UDDT-ig",
        "colab_type": "code",
        "outputId": "33fd7cb1-1615-4343-f129-037026ffa057",
        "colab": {
          "base_uri": "https://localhost:8080/",
          "height": 153
        }
      },
      "source": [
        "fashion_mnist = keras.datasets.fashion_mnist\n",
        "\n",
        "(train_images, train_labels), (test_images, test_labels) = fashion_mnist.load_data()"
      ],
      "execution_count": 0,
      "outputs": [
        {
          "output_type": "stream",
          "text": [
            "Downloading data from https://storage.googleapis.com/tensorflow/tf-keras-datasets/train-labels-idx1-ubyte.gz\n",
            "32768/29515 [=================================] - 0s 0us/step\n",
            "Downloading data from https://storage.googleapis.com/tensorflow/tf-keras-datasets/train-images-idx3-ubyte.gz\n",
            "26427392/26421880 [==============================] - 0s 0us/step\n",
            "Downloading data from https://storage.googleapis.com/tensorflow/tf-keras-datasets/t10k-labels-idx1-ubyte.gz\n",
            "8192/5148 [===============================================] - 0s 0us/step\n",
            "Downloading data from https://storage.googleapis.com/tensorflow/tf-keras-datasets/t10k-images-idx3-ubyte.gz\n",
            "4423680/4422102 [==============================] - 0s 0us/step\n"
          ],
          "name": "stdout"
        }
      ]
    },
    {
      "cell_type": "markdown",
      "metadata": {
        "id": "1yS85T__UDp0",
        "colab_type": "text"
      },
      "source": [
        "## Pre-process the dataset"
      ]
    },
    {
      "cell_type": "code",
      "metadata": {
        "id": "Fw9zzN7eUJ4O",
        "colab_type": "code",
        "colab": {}
      },
      "source": [
        "train_images = train_images / 255.0\n",
        "test_images = test_images / 255.0"
      ],
      "execution_count": 0,
      "outputs": []
    },
    {
      "cell_type": "markdown",
      "metadata": {
        "id": "c5a1rQEUuDeC",
        "colab_type": "text"
      },
      "source": [
        "## Model that underfits"
      ]
    },
    {
      "cell_type": "code",
      "metadata": {
        "id": "3LB3OWKcuGKW",
        "colab_type": "code",
        "outputId": "824a4217-79c5-42dd-aa6b-234ea7815594",
        "colab": {
          "base_uri": "https://localhost:8080/",
          "height": 88
        }
      },
      "source": [
        "#set up the layers\n",
        "model_underfit = keras.Sequential([\n",
        "    keras.layers.Flatten(input_shape=(28, 28)),\n",
        "    keras.layers.Dense(5, activation=tf.nn.relu),\n",
        "    keras.layers.Dense(4, activation=tf.nn.relu),\n",
        "    keras.layers.Dense(10, activation=tf.nn.softmax)\n",
        "])"
      ],
      "execution_count": 0,
      "outputs": [
        {
          "output_type": "stream",
          "text": [
            "WARNING:tensorflow:From /usr/local/lib/python3.6/dist-packages/tensorflow_core/python/ops/resource_variable_ops.py:1630: calling BaseResourceVariable.__init__ (from tensorflow.python.ops.resource_variable_ops) with constraint is deprecated and will be removed in a future version.\n",
            "Instructions for updating:\n",
            "If using Keras pass *_constraint arguments to layers.\n"
          ],
          "name": "stdout"
        }
      ]
    },
    {
      "cell_type": "code",
      "metadata": {
        "id": "trpI-NYsuj0e",
        "colab_type": "code",
        "colab": {}
      },
      "source": [
        "#compile the model\n",
        "model_underfit.compile(optimizer='adam',\n",
        "             loss='sparse_categorical_crossentropy',\n",
        "             metrics=['accuracy'])"
      ],
      "execution_count": 0,
      "outputs": []
    },
    {
      "cell_type": "code",
      "metadata": {
        "id": "M5F8x-FauysV",
        "colab_type": "code",
        "outputId": "4e0bb556-9574-461f-d6f0-c7e02a95f17c",
        "colab": {
          "base_uri": "https://localhost:8080/",
          "height": 714
        }
      },
      "source": [
        "#train the model\n",
        "epochs_underfit = 20\n",
        "history_underfit = model_underfit.fit(train_images, \n",
        "                      train_labels, \n",
        "                      epochs=epochs_underfit,  \n",
        "                      validation_data=(test_images, test_labels))"
      ],
      "execution_count": 0,
      "outputs": [
        {
          "output_type": "stream",
          "text": [
            "Train on 60000 samples, validate on 10000 samples\n",
            "Epoch 1/20\n",
            "60000/60000 [==============================] - 4s 66us/sample - loss: 1.2308 - acc: 0.5613 - val_loss: 0.8091 - val_acc: 0.7207\n",
            "Epoch 2/20\n",
            "60000/60000 [==============================] - 3s 57us/sample - loss: 0.6864 - acc: 0.7485 - val_loss: 0.6669 - val_acc: 0.7475\n",
            "Epoch 3/20\n",
            "60000/60000 [==============================] - 3s 57us/sample - loss: 0.6288 - acc: 0.7631 - val_loss: 0.6468 - val_acc: 0.7537\n",
            "Epoch 4/20\n",
            "60000/60000 [==============================] - 3s 58us/sample - loss: 0.6063 - acc: 0.7720 - val_loss: 0.6308 - val_acc: 0.7580\n",
            "Epoch 5/20\n",
            "60000/60000 [==============================] - 3s 58us/sample - loss: 0.5934 - acc: 0.7764 - val_loss: 0.6202 - val_acc: 0.7692\n",
            "Epoch 6/20\n",
            "60000/60000 [==============================] - 5s 82us/sample - loss: 0.5832 - acc: 0.7812 - val_loss: 0.6129 - val_acc: 0.7735\n",
            "Epoch 7/20\n",
            "60000/60000 [==============================] - 5s 91us/sample - loss: 0.5749 - acc: 0.7853 - val_loss: 0.6067 - val_acc: 0.7784\n",
            "Epoch 8/20\n",
            "60000/60000 [==============================] - 4s 61us/sample - loss: 0.5679 - acc: 0.7903 - val_loss: 0.6119 - val_acc: 0.7752\n",
            "Epoch 9/20\n",
            "60000/60000 [==============================] - 3s 58us/sample - loss: 0.5619 - acc: 0.7929 - val_loss: 0.6126 - val_acc: 0.7856\n",
            "Epoch 10/20\n",
            "60000/60000 [==============================] - 3s 58us/sample - loss: 0.5574 - acc: 0.7959 - val_loss: 0.5984 - val_acc: 0.7875\n",
            "Epoch 11/20\n",
            "60000/60000 [==============================] - 3s 57us/sample - loss: 0.5537 - acc: 0.7975 - val_loss: 0.6142 - val_acc: 0.7810\n",
            "Epoch 12/20\n",
            "60000/60000 [==============================] - 4s 58us/sample - loss: 0.5498 - acc: 0.8002 - val_loss: 0.5986 - val_acc: 0.7867\n",
            "Epoch 13/20\n",
            "60000/60000 [==============================] - 4s 58us/sample - loss: 0.5480 - acc: 0.8007 - val_loss: 0.6214 - val_acc: 0.7716\n",
            "Epoch 14/20\n",
            "60000/60000 [==============================] - 3s 58us/sample - loss: 0.5458 - acc: 0.8024 - val_loss: 0.5886 - val_acc: 0.7901\n",
            "Epoch 15/20\n",
            "60000/60000 [==============================] - 3s 58us/sample - loss: 0.5422 - acc: 0.8029 - val_loss: 0.5904 - val_acc: 0.7921\n",
            "Epoch 16/20\n",
            "60000/60000 [==============================] - 3s 58us/sample - loss: 0.5378 - acc: 0.8048 - val_loss: 0.6106 - val_acc: 0.7831\n",
            "Epoch 17/20\n",
            "60000/60000 [==============================] - 3s 57us/sample - loss: 0.5355 - acc: 0.8044 - val_loss: 0.5823 - val_acc: 0.7909\n",
            "Epoch 18/20\n",
            "60000/60000 [==============================] - 3s 57us/sample - loss: 0.5332 - acc: 0.8065 - val_loss: 0.5810 - val_acc: 0.7914\n",
            "Epoch 19/20\n",
            "60000/60000 [==============================] - 4s 59us/sample - loss: 0.5307 - acc: 0.8067 - val_loss: 0.5882 - val_acc: 0.7895\n",
            "Epoch 20/20\n",
            "60000/60000 [==============================] - 3s 57us/sample - loss: 0.5292 - acc: 0.8064 - val_loss: 0.5842 - val_acc: 0.7869\n"
          ],
          "name": "stdout"
        }
      ]
    },
    {
      "cell_type": "code",
      "metadata": {
        "id": "MSwD7lKZz7v0",
        "colab_type": "code",
        "colab": {}
      },
      "source": [
        "#get the training history\n",
        "history_dict_underfit = history_underfit.history\n",
        "acc_values_underfit = history_dict_underfit['acc']\n",
        "test_acc_values_underfit = history_dict_underfit['val_acc']\n",
        "loss_values_underfit = history_dict_underfit['loss']\n",
        "test_loss_values_underfit = history_dict_underfit['val_loss']\n",
        "epochs_range_underfit = range(1, epochs_underfit+1)"
      ],
      "execution_count": 0,
      "outputs": []
    },
    {
      "cell_type": "code",
      "metadata": {
        "id": "K0otvwGX0aOe",
        "colab_type": "code",
        "outputId": "7b099e5c-4baa-4743-f591-c9af59cf5b90",
        "colab": {
          "base_uri": "https://localhost:8080/",
          "height": 573
        }
      },
      "source": [
        "#visualize the results\n",
        "\n",
        "#accuracy\n",
        "plt.plot(epochs_range_underfit, acc_values_underfit, 'bo', label='Training accuracy')\n",
        "plt.plot(epochs_range_underfit, test_acc_values_underfit, 'ro', label='Test accuracy')\n",
        "plt.title('Training and Test Accuracy for Underfitting Model')\n",
        "plt.xlabel('Epochs')\n",
        "plt.ylabel('Accuracy')\n",
        "plt.legend()\n",
        "plt.show()\n",
        "\n",
        "#loss\n",
        "plt.plot(epochs_range_underfit, loss_values_underfit, 'bo', label='Training loss')\n",
        "plt.plot(epochs_range_underfit, test_loss_values_underfit, 'ro', label='Test loss')\n",
        "plt.title('Training and Test Loss for Underfitting Model')\n",
        "plt.xlabel('Epochs')\n",
        "plt.ylabel('Loss')\n",
        "plt.legend()\n",
        "plt.show()"
      ],
      "execution_count": 0,
      "outputs": [
        {
          "output_type": "display_data",
          "data": {
            "image/png": "[encoded data removed]",
            "text/plain": [
              "<Figure size 432x288 with 1 Axes>"
            ]
          },
          "metadata": {
            "tags": []
          }
        },
        {
          "output_type": "display_data",
          "data": {
            "image/png": "[encoded data removed]",
            "text/plain": [
              "<Figure size 432x288 with 1 Axes>"
            ]
          },
          "metadata": {
            "tags": []
          }
        }
      ]
    },
    {
      "cell_type": "markdown",
      "metadata": {
        "id": "kRLD3To91fBm",
        "colab_type": "text"
      },
      "source": [
        "After the initial increase in accuracy, accuracy stops improving by any meaningful amount for both the testing and the training datasets. Additionally, the model stagnates at about 80% accuracy, which is fairly low. These are both signs of a model that underfits. This model underfits because the layers with only 4 and 5 nodes oversimplify the input data."
      ]
    },
    {
      "cell_type": "markdown",
      "metadata": {
        "id": "mD039fA52V6T",
        "colab_type": "text"
      },
      "source": [
        "## Model that overfits"
      ]
    },
    {
      "cell_type": "code",
      "metadata": {
        "id": "tIhFHLKR2bPp",
        "colab_type": "code",
        "colab": {}
      },
      "source": [
        "#set up the layers\n",
        "model_overfit = keras.Sequential([\n",
        "    keras.layers.Flatten(input_shape=(28, 28)),\n",
        "    keras.layers.Dense(100, activation=tf.nn.relu),\n",
        "    keras.layers.Dense(100, activation=tf.nn.relu),\n",
        "    keras.layers.Dense(200, activation=tf.nn.relu),\n",
        "    keras.layers.Dense(100, activation=tf.nn.relu),\n",
        "    keras.layers.Dense(100, activation=tf.nn.relu),\n",
        "    keras.layers.Dense(10, activation=tf.nn.softmax)\n",
        "])"
      ],
      "execution_count": 0,
      "outputs": []
    },
    {
      "cell_type": "code",
      "metadata": {
        "id": "-yiqxJIZ2jkn",
        "colab_type": "code",
        "colab": {}
      },
      "source": [
        "#compile the model\n",
        "model_overfit.compile(optimizer='adam',\n",
        "             loss='sparse_categorical_crossentropy',\n",
        "             metrics=['accuracy'])"
      ],
      "execution_count": 0,
      "outputs": []
    },
    {
      "cell_type": "code",
      "metadata": {
        "id": "FwmvdylS2sX4",
        "colab_type": "code",
        "outputId": "b2aefcb2-e91e-47a2-e4fa-e4c042d55215",
        "colab": {
          "base_uri": "https://localhost:8080/",
          "height": 1000
        }
      },
      "source": [
        "#train the model\n",
        "epochs_overfit = 30\n",
        "history_overfit = model_overfit.fit(train_images, \n",
        "                      train_labels, \n",
        "                      epochs=epochs_overfit,  \n",
        "                      validation_data=(test_images, test_labels))"
      ],
      "execution_count": 0,
      "outputs": [
        {
          "output_type": "stream",
          "text": [
            "Train on 60000 samples, validate on 10000 samples\n",
            "Epoch 1/30\n",
            "60000/60000 [==============================] - 8s 127us/sample - loss: 0.5143 - acc: 0.8120 - val_loss: 0.4709 - val_acc: 0.8314\n",
            "Epoch 2/30\n",
            "60000/60000 [==============================] - 7s 122us/sample - loss: 0.3837 - acc: 0.8588 - val_loss: 0.4132 - val_acc: 0.8503\n",
            "Epoch 3/30\n",
            "60000/60000 [==============================] - 8s 126us/sample - loss: 0.3499 - acc: 0.8702 - val_loss: 0.3895 - val_acc: 0.8561\n",
            "Epoch 4/30\n",
            "60000/60000 [==============================] - 7s 124us/sample - loss: 0.3234 - acc: 0.8806 - val_loss: 0.3886 - val_acc: 0.8596\n",
            "Epoch 5/30\n",
            "60000/60000 [==============================] - 7s 121us/sample - loss: 0.3102 - acc: 0.8854 - val_loss: 0.3550 - val_acc: 0.8723\n",
            "Epoch 6/30\n",
            "60000/60000 [==============================] - 7s 123us/sample - loss: 0.2979 - acc: 0.8910 - val_loss: 0.3405 - val_acc: 0.8764\n",
            "Epoch 7/30\n",
            "60000/60000 [==============================] - 7s 121us/sample - loss: 0.2828 - acc: 0.8949 - val_loss: 0.3644 - val_acc: 0.8583\n",
            "Epoch 8/30\n",
            "60000/60000 [==============================] - 7s 119us/sample - loss: 0.2733 - acc: 0.8974 - val_loss: 0.3390 - val_acc: 0.8809\n",
            "Epoch 9/30\n",
            "60000/60000 [==============================] - 7s 118us/sample - loss: 0.2624 - acc: 0.9018 - val_loss: 0.3662 - val_acc: 0.8744\n",
            "Epoch 10/30\n",
            "60000/60000 [==============================] - 8s 126us/sample - loss: 0.2553 - acc: 0.9053 - val_loss: 0.3310 - val_acc: 0.8830\n",
            "Epoch 11/30\n",
            "60000/60000 [==============================] - 8s 132us/sample - loss: 0.2499 - acc: 0.9063 - val_loss: 0.3417 - val_acc: 0.8815\n",
            "Epoch 12/30\n",
            "60000/60000 [==============================] - 7s 121us/sample - loss: 0.2411 - acc: 0.9096 - val_loss: 0.3739 - val_acc: 0.8768\n",
            "Epoch 13/30\n",
            "60000/60000 [==============================] - 7s 117us/sample - loss: 0.2374 - acc: 0.9097 - val_loss: 0.3466 - val_acc: 0.8807\n",
            "Epoch 14/30\n",
            "60000/60000 [==============================] - 7s 119us/sample - loss: 0.2274 - acc: 0.9135 - val_loss: 0.3755 - val_acc: 0.8780\n",
            "Epoch 15/30\n",
            "60000/60000 [==============================] - 7s 115us/sample - loss: 0.2221 - acc: 0.9153 - val_loss: 0.3519 - val_acc: 0.8805\n",
            "Epoch 16/30\n",
            "60000/60000 [==============================] - 7s 117us/sample - loss: 0.2180 - acc: 0.9177 - val_loss: 0.3908 - val_acc: 0.8753\n",
            "Epoch 17/30\n",
            "60000/60000 [==============================] - 8s 128us/sample - loss: 0.2162 - acc: 0.9188 - val_loss: 0.3436 - val_acc: 0.8865\n",
            "Epoch 18/30\n",
            "60000/60000 [==============================] - 7s 120us/sample - loss: 0.2081 - acc: 0.9209 - val_loss: 0.3745 - val_acc: 0.8831\n",
            "Epoch 19/30\n",
            "60000/60000 [==============================] - 7s 119us/sample - loss: 0.2060 - acc: 0.9216 - val_loss: 0.3809 - val_acc: 0.8796\n",
            "Epoch 20/30\n",
            "60000/60000 [==============================] - 7s 119us/sample - loss: 0.2028 - acc: 0.9238 - val_loss: 0.3932 - val_acc: 0.8811\n",
            "Epoch 21/30\n",
            "60000/60000 [==============================] - 7s 120us/sample - loss: 0.1980 - acc: 0.9245 - val_loss: 0.3905 - val_acc: 0.8859\n",
            "Epoch 22/30\n",
            "60000/60000 [==============================] - 7s 119us/sample - loss: 0.1918 - acc: 0.9276 - val_loss: 0.3929 - val_acc: 0.8851\n",
            "Epoch 23/30\n",
            "60000/60000 [==============================] - 7s 120us/sample - loss: 0.1905 - acc: 0.9271 - val_loss: 0.3910 - val_acc: 0.8858\n",
            "Epoch 24/30\n",
            "60000/60000 [==============================] - 8s 128us/sample - loss: 0.1876 - acc: 0.9304 - val_loss: 0.4310 - val_acc: 0.8791\n",
            "Epoch 25/30\n",
            "60000/60000 [==============================] - 7s 121us/sample - loss: 0.1843 - acc: 0.9294 - val_loss: 0.3586 - val_acc: 0.8891\n",
            "Epoch 26/30\n",
            "60000/60000 [==============================] - 7s 120us/sample - loss: 0.1800 - acc: 0.9315 - val_loss: 0.3793 - val_acc: 0.8914\n",
            "Epoch 27/30\n",
            "60000/60000 [==============================] - 7s 121us/sample - loss: 0.1746 - acc: 0.9336 - val_loss: 0.4389 - val_acc: 0.8872\n",
            "Epoch 28/30\n",
            "60000/60000 [==============================] - 8s 135us/sample - loss: 0.1756 - acc: 0.9340 - val_loss: 0.3720 - val_acc: 0.8909\n",
            "Epoch 29/30\n",
            "60000/60000 [==============================] - 7s 114us/sample - loss: 0.1707 - acc: 0.9352 - val_loss: 0.4096 - val_acc: 0.8896\n",
            "Epoch 30/30\n",
            "60000/60000 [==============================] - 7s 116us/sample - loss: 0.1686 - acc: 0.9354 - val_loss: 0.4146 - val_acc: 0.8868\n"
          ],
          "name": "stdout"
        }
      ]
    },
    {
      "cell_type": "code",
      "metadata": {
        "id": "rXjiwHmw2_lX",
        "colab_type": "code",
        "colab": {}
      },
      "source": [
        "#get the training history\n",
        "history_dict_overfit = history_overfit.history\n",
        "acc_values_overfit = history_dict_overfit['acc']\n",
        "test_acc_values_overfit = history_dict_overfit['val_acc']\n",
        "loss_values_overfit = history_dict_overfit['loss']\n",
        "test_loss_values_overfit = history_dict_overfit['val_loss']\n",
        "epochs_range_overfit = range(1, epochs_overfit+1)"
      ],
      "execution_count": 0,
      "outputs": []
    },
    {
      "cell_type": "code",
      "metadata": {
        "id": "kEV6TPBP3H_a",
        "colab_type": "code",
        "outputId": "0597ef71-9179-4dc6-acfb-5ee4d01bef6d",
        "colab": {
          "base_uri": "https://localhost:8080/",
          "height": 573
        }
      },
      "source": [
        "#visualize the results\n",
        "\n",
        "#accuracy\n",
        "plt.plot(epochs_range_overfit, acc_values_overfit, 'bo', label='Training accuracy')\n",
        "plt.plot(epochs_range_overfit, test_acc_values_overfit, 'ro', label='Test accuracy')\n",
        "plt.title('Training and Test Accuracy for Overfitting Model')\n",
        "plt.xlabel('Epochs')\n",
        "plt.ylabel('Accuracy')\n",
        "plt.legend()\n",
        "plt.show()\n",
        "\n",
        "#loss\n",
        "plt.plot(epochs_range_overfit, loss_values_overfit, 'bo', label='Training loss')\n",
        "plt.plot(epochs_range_overfit, test_loss_values_overfit, 'ro', label='Test loss')\n",
        "plt.title('Training and Test Loss for Overfitting Model')\n",
        "plt.xlabel('Epochs')\n",
        "plt.ylabel('Loss')\n",
        "plt.legend()\n",
        "plt.show()"
      ],
      "execution_count": 0,
      "outputs": [
        {
          "output_type": "display_data",
          "data": {
            "image/png": "[encoded data removed]",
            "text/plain": [
              "<Figure size 432x288 with 1 Axes>"
            ]
          },
          "metadata": {
            "tags": []
          }
        },
        {
          "output_type": "display_data",
          "data": {
            "image/png": "[encoded data removed]",
            "text/plain": [
              "<Figure size 432x288 with 1 Axes>"
            ]
          },
          "metadata": {
            "tags": []
          }
        }
      ]
    },
    {
      "cell_type": "markdown",
      "metadata": {
        "id": "kW3pbIhG6PQy",
        "colab_type": "text"
      },
      "source": [
        "You can tell this models overfits because the training accuracy continues to increase as the testing accuracy remains about the same. The overfitting is due to the model being too complex and training for too long. It is essentially memorizing the training data and loosing it's ability to abstract to other images. "
      ]
    },
    {
      "cell_type": "markdown",
      "metadata": {
        "id": "BUZ0TDih6t6I",
        "colab_type": "text"
      },
      "source": [
        "## Model that is \"pretty good\""
      ]
    },
    {
      "cell_type": "code",
      "metadata": {
        "id": "YHv4D4xI6wb7",
        "colab_type": "code",
        "colab": {}
      },
      "source": [
        "#set up the layers\n",
        "model = keras.Sequential([\n",
        "    keras.layers.Flatten(input_shape=(28, 28)),\n",
        "    keras.layers.Dense(256, activation=tf.nn.relu),\n",
        "    keras.layers.Dropout(0.2),\n",
        "    keras.layers.Dense(256, activation=tf.nn.relu),\n",
        "    keras.layers.Dropout(0.2),\n",
        "    keras.layers.Dense(10, activation=tf.nn.softmax)\n",
        "])"
      ],
      "execution_count": 0,
      "outputs": []
    },
    {
      "cell_type": "code",
      "metadata": {
        "id": "NS-gZzpF7z25",
        "colab_type": "code",
        "colab": {}
      },
      "source": [
        "#compile the model\n",
        "model.compile(optimizer='adam',\n",
        "             loss='sparse_categorical_crossentropy',\n",
        "             metrics=['accuracy'])"
      ],
      "execution_count": 0,
      "outputs": []
    },
    {
      "cell_type": "code",
      "metadata": {
        "id": "TE4b-CVu73Hh",
        "colab_type": "code",
        "outputId": "84097606-0bfe-443a-b17f-857f188e7b7f",
        "colab": {
          "base_uri": "https://localhost:8080/",
          "height": 714
        }
      },
      "source": [
        "#train the model\n",
        "epochs = 20\n",
        "history = model.fit(train_images, \n",
        "                      train_labels, \n",
        "                      epochs=epochs,  \n",
        "                      validation_data=(test_images, test_labels))"
      ],
      "execution_count": 0,
      "outputs": [
        {
          "output_type": "stream",
          "text": [
            "Train on 60000 samples, validate on 10000 samples\n",
            "Epoch 1/20\n",
            "60000/60000 [==============================] - 10s 168us/sample - loss: 0.5240 - acc: 0.8092 - val_loss: 0.4395 - val_acc: 0.8337\n",
            "Epoch 2/20\n",
            "60000/60000 [==============================] - 11s 176us/sample - loss: 0.4043 - acc: 0.8524 - val_loss: 0.3965 - val_acc: 0.8553\n",
            "Epoch 3/20\n",
            "60000/60000 [==============================] - 9s 158us/sample - loss: 0.3676 - acc: 0.8632 - val_loss: 0.3833 - val_acc: 0.8605\n",
            "Epoch 4/20\n",
            "60000/60000 [==============================] - 10s 161us/sample - loss: 0.3488 - acc: 0.8697 - val_loss: 0.3866 - val_acc: 0.8615\n",
            "Epoch 5/20\n",
            "60000/60000 [==============================] - 9s 158us/sample - loss: 0.3338 - acc: 0.8761 - val_loss: 0.3593 - val_acc: 0.8722\n",
            "Epoch 6/20\n",
            "60000/60000 [==============================] - 9s 158us/sample - loss: 0.3194 - acc: 0.8818 - val_loss: 0.3504 - val_acc: 0.8730\n",
            "Epoch 7/20\n",
            "60000/60000 [==============================] - 10s 161us/sample - loss: 0.3119 - acc: 0.8837 - val_loss: 0.3390 - val_acc: 0.8769\n",
            "Epoch 8/20\n",
            "60000/60000 [==============================] - 10s 159us/sample - loss: 0.3023 - acc: 0.8868 - val_loss: 0.3289 - val_acc: 0.8816\n",
            "Epoch 9/20\n",
            "60000/60000 [==============================] - 9s 155us/sample - loss: 0.2947 - acc: 0.8893 - val_loss: 0.3362 - val_acc: 0.8793\n",
            "Epoch 10/20\n",
            "60000/60000 [==============================] - 10s 159us/sample - loss: 0.2884 - acc: 0.8916 - val_loss: 0.3360 - val_acc: 0.8831\n",
            "Epoch 11/20\n",
            "60000/60000 [==============================] - 10s 160us/sample - loss: 0.2800 - acc: 0.8953 - val_loss: 0.3216 - val_acc: 0.8839\n",
            "Epoch 12/20\n",
            "60000/60000 [==============================] - 10s 171us/sample - loss: 0.2730 - acc: 0.8968 - val_loss: 0.3224 - val_acc: 0.8886\n",
            "Epoch 13/20\n",
            "60000/60000 [==============================] - 10s 165us/sample - loss: 0.2696 - acc: 0.8981 - val_loss: 0.3236 - val_acc: 0.8839\n",
            "Epoch 14/20\n",
            "60000/60000 [==============================] - 10s 166us/sample - loss: 0.2651 - acc: 0.9002 - val_loss: 0.3335 - val_acc: 0.8850\n",
            "Epoch 15/20\n",
            "60000/60000 [==============================] - 10s 161us/sample - loss: 0.2616 - acc: 0.9004 - val_loss: 0.3258 - val_acc: 0.8872\n",
            "Epoch 16/20\n",
            "60000/60000 [==============================] - 10s 160us/sample - loss: 0.2575 - acc: 0.9040 - val_loss: 0.3279 - val_acc: 0.8870\n",
            "Epoch 17/20\n",
            "60000/60000 [==============================] - 10s 162us/sample - loss: 0.2556 - acc: 0.9034 - val_loss: 0.3282 - val_acc: 0.8887\n",
            "Epoch 18/20\n",
            "60000/60000 [==============================] - 10s 161us/sample - loss: 0.2512 - acc: 0.9048 - val_loss: 0.3312 - val_acc: 0.8892\n",
            "Epoch 19/20\n",
            "60000/60000 [==============================] - 10s 161us/sample - loss: 0.2435 - acc: 0.9081 - val_loss: 0.3289 - val_acc: 0.8857\n",
            "Epoch 20/20\n",
            "60000/60000 [==============================] - 10s 163us/sample - loss: 0.2404 - acc: 0.9079 - val_loss: 0.3271 - val_acc: 0.8897\n"
          ],
          "name": "stdout"
        }
      ]
    },
    {
      "cell_type": "code",
      "metadata": {
        "id": "NSqz0O_L7-dF",
        "colab_type": "code",
        "colab": {}
      },
      "source": [
        "#get the training history\n",
        "history_dict = history.history\n",
        "acc_values = history_dict['acc']\n",
        "test_acc_values = history_dict['val_acc']\n",
        "loss_values = history_dict['loss']\n",
        "test_loss_values = history_dict['val_loss']\n",
        "epochs_range = range(1, epochs+1)"
      ],
      "execution_count": 0,
      "outputs": []
    },
    {
      "cell_type": "code",
      "metadata": {
        "id": "eKF_FqSC8o3-",
        "colab_type": "code",
        "outputId": "3986c018-c2f2-43f5-d99f-ccdcb484787b",
        "colab": {
          "base_uri": "https://localhost:8080/",
          "height": 573
        }
      },
      "source": [
        "#visualize the results\n",
        "\n",
        "#accuracy\n",
        "plt.plot(epochs_range, acc_values, 'bo', label='Training accuracy')\n",
        "plt.plot(epochs_range, test_acc_values, 'ro', label='Test accuracy')\n",
        "plt.title('Training and Test Accuracy for \"Pretty Good\" Model')\n",
        "plt.xlabel('Epochs')\n",
        "plt.ylabel('Accuracy')\n",
        "plt.legend()\n",
        "plt.show()\n",
        "\n",
        "#loss\n",
        "plt.plot(epochs_range, loss_values, 'bo', label='Training loss')\n",
        "plt.plot(epochs_range, test_loss_values, 'ro', label='Test loss')\n",
        "plt.title('Training and Test Loss for \"Pretty Good\" Model')\n",
        "plt.xlabel('Epochs')\n",
        "plt.ylabel('Loss')\n",
        "plt.legend()\n",
        "plt.show()"
      ],
      "execution_count": 0,
      "outputs": [
        {
          "output_type": "display_data",
          "data": {
            "image/png": "[encoded data removed]",
            "text/plain": [
              "<Figure size 432x288 with 1 Axes>"
            ]
          },
          "metadata": {
            "tags": []
          }
        },
        {
          "output_type": "display_data",
          "data": {
            "image/png": "[encoded data removed]",
            "text/plain": [
              "<Figure size 432x288 with 1 Axes>"
            ]
          },
          "metadata": {
            "tags": []
          }
        }
      ]
    },
    {
      "cell_type": "markdown",
      "metadata": {
        "id": "Qz7fTWFqyuHh",
        "colab_type": "text"
      },
      "source": [
        "A model that acheives 89% accuracy on the training data could be considered pretty good. There is a slight overfit, as the training loss continues to decrease while the test loss remains the same, but the gap is much less pronounced than in the overfitting example. Dropout was used to prevent overfitting, and large layers were used to prevent oversimplification/underfitting. "
      ]
    }
  ]
}