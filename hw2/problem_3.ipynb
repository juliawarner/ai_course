{
  "nbformat": 4,
  "nbformat_minor": 0,
  "metadata": {
    "colab": {
      "name": "problem_3.ipynb",
      "provenance": []
    },
    "kernelspec": {
      "name": "python3",
      "display_name": "Python 3"
    }
  },
  "cells": [
    {
      "cell_type": "markdown",
      "metadata": {
        "id": "ugf687vVSPqS",
        "colab_type": "text"
      },
      "source": [
        "Julia Warner\n",
        "\n",
        "CAP 4630\n",
        "\n",
        "HW2, Problem 3"
      ]
    },
    {
      "cell_type": "code",
      "metadata": {
        "id": "EVbFxWKHSRBi",
        "colab_type": "code",
        "colab": {}
      },
      "source": [
        "import tensorflow as tf\n",
        "from tensorflow import keras\n",
        "import matplotlib.pyplot as plt\n",
        "import numpy as np"
      ],
      "execution_count": 0,
      "outputs": []
    },
    {
      "cell_type": "markdown",
      "metadata": {
        "id": "9Fu8IlIHSKGS",
        "colab_type": "text"
      },
      "source": [
        "## Loading the CIFAR10 data set"
      ]
    },
    {
      "cell_type": "code",
      "metadata": {
        "id": "qbkVbpHZSEeJ",
        "colab_type": "code",
        "colab": {}
      },
      "source": [
        "from keras.datasets import cifar10\n",
        "\n",
        "(train_images, train_labels), (test_images, test_labels) = cifar10.load_data()"
      ],
      "execution_count": 0,
      "outputs": []
    },
    {
      "cell_type": "markdown",
      "metadata": {
        "id": "bLbSRr8iS45D",
        "colab_type": "text"
      },
      "source": [
        "## Pre-process the dataset"
      ]
    },
    {
      "cell_type": "code",
      "metadata": {
        "id": "bvJaSTBOSs1P",
        "colab_type": "code",
        "colab": {}
      },
      "source": [
        "train_images = train_images / 255.0\n",
        "test_images = test_images / 255.0"
      ],
      "execution_count": 0,
      "outputs": []
    },
    {
      "cell_type": "markdown",
      "metadata": {
        "id": "9hMpYkXmS0-M",
        "colab_type": "text"
      },
      "source": [
        "## Model that underfits"
      ]
    },
    {
      "cell_type": "code",
      "metadata": {
        "id": "lYyZHb9dS9wC",
        "colab_type": "code",
        "colab": {}
      },
      "source": [
        "#set up the layers\n",
        "model_underfit = keras.Sequential([\n",
        "    keras.layers.Conv2D(2, kernel_size=3, activation=tf.nn.relu, input_shape=(32, 32, 3)),\n",
        "    keras.layers.Conv2D(2, kernel_size=3,  activation=tf.nn.relu),\n",
        "    keras.layers.Flatten(),\n",
        "    keras.layers.Dense(10, activation=tf.nn.softmax)\n",
        "])"
      ],
      "execution_count": 0,
      "outputs": []
    },
    {
      "cell_type": "code",
      "metadata": {
        "id": "MtxV1sWeTC5J",
        "colab_type": "code",
        "colab": {}
      },
      "source": [
        "#compile the model\n",
        "model_underfit.compile(optimizer='adam',\n",
        "             loss='sparse_categorical_crossentropy',\n",
        "             metrics=['accuracy'])"
      ],
      "execution_count": 0,
      "outputs": []
    },
    {
      "cell_type": "code",
      "metadata": {
        "id": "sBRylV1JTFAI",
        "colab_type": "code",
        "colab": {
          "base_uri": "https://localhost:8080/",
          "height": 374
        },
        "outputId": "225fce98-4243-477e-8270-f26022bc68b7"
      },
      "source": [
        "#train the model\n",
        "epochs_underfit = 10\n",
        "history_underfit = model_underfit.fit(train_images, \n",
        "                      train_labels, \n",
        "                      epochs=epochs_underfit,  \n",
        "                      validation_data=(test_images, test_labels))"
      ],
      "execution_count": 86,
      "outputs": [
        {
          "output_type": "stream",
          "text": [
            "Train on 50000 samples, validate on 10000 samples\n",
            "Epoch 1/10\n",
            "50000/50000 [==============================] - 36s 722us/sample - loss: 1.9332 - acc: 0.2902 - val_loss: 1.8378 - val_acc: 0.3348\n",
            "Epoch 2/10\n",
            "50000/50000 [==============================] - 36s 718us/sample - loss: 1.7947 - acc: 0.3579 - val_loss: 1.7551 - val_acc: 0.3799\n",
            "Epoch 3/10\n",
            "50000/50000 [==============================] - 36s 729us/sample - loss: 1.7104 - acc: 0.3950 - val_loss: 1.7150 - val_acc: 0.3947\n",
            "Epoch 4/10\n",
            "50000/50000 [==============================] - 36s 719us/sample - loss: 1.6580 - acc: 0.4169 - val_loss: 1.6807 - val_acc: 0.4080\n",
            "Epoch 5/10\n",
            "50000/50000 [==============================] - 36s 724us/sample - loss: 1.6189 - acc: 0.4297 - val_loss: 1.6795 - val_acc: 0.3992\n",
            "Epoch 6/10\n",
            "50000/50000 [==============================] - 36s 727us/sample - loss: 1.5900 - acc: 0.4388 - val_loss: 1.6447 - val_acc: 0.4134\n",
            "Epoch 7/10\n",
            "50000/50000 [==============================] - 36s 719us/sample - loss: 1.5688 - acc: 0.4451 - val_loss: 1.6437 - val_acc: 0.4131\n",
            "Epoch 8/10\n",
            "50000/50000 [==============================] - 36s 715us/sample - loss: 1.5514 - acc: 0.4489 - val_loss: 1.6309 - val_acc: 0.4154\n",
            "Epoch 9/10\n",
            "50000/50000 [==============================] - 36s 714us/sample - loss: 1.5404 - acc: 0.4550 - val_loss: 1.6497 - val_acc: 0.4126\n",
            "Epoch 10/10\n",
            "50000/50000 [==============================] - 36s 715us/sample - loss: 1.5302 - acc: 0.4565 - val_loss: 1.6338 - val_acc: 0.4117\n"
          ],
          "name": "stdout"
        }
      ]
    },
    {
      "cell_type": "code",
      "metadata": {
        "id": "kqCrKqdjTG7J",
        "colab_type": "code",
        "colab": {}
      },
      "source": [
        "#get the training history\n",
        "history_dict_underfit = history_underfit.history\n",
        "acc_values_underfit = history_dict_underfit['acc']\n",
        "test_acc_values_underfit = history_dict_underfit['val_acc']\n",
        "loss_values_underfit = history_dict_underfit['loss']\n",
        "test_loss_values_underfit = history_dict_underfit['val_loss']\n",
        "epochs_range_underfit = range(1, epochs_underfit+1)"
      ],
      "execution_count": 0,
      "outputs": []
    },
    {
      "cell_type": "code",
      "metadata": {
        "id": "ZTbp6GlETJb1",
        "colab_type": "code",
        "colab": {
          "base_uri": "https://localhost:8080/",
          "height": 573
        },
        "outputId": "08652965-93b5-4f4f-ef4f-c700cd15ed7b"
      },
      "source": [
        "#visualize the results\n",
        "\n",
        "#accuracy\n",
        "plt.plot(epochs_range_underfit, acc_values_underfit, 'bo', label='Training accuracy')\n",
        "plt.plot(epochs_range_underfit, test_acc_values_underfit, 'ro', label='Test accuracy')\n",
        "plt.title('Training and Test Accuracy for Underfitting Model')\n",
        "plt.xlabel('Epochs')\n",
        "plt.ylabel('Accuracy')\n",
        "plt.legend()\n",
        "plt.show()\n",
        "\n",
        "#loss\n",
        "plt.plot(epochs_range_underfit, loss_values_underfit, 'bo', label='Training loss')\n",
        "plt.plot(epochs_range_underfit, test_loss_values_underfit, 'ro', label='Test loss')\n",
        "plt.title('Training and Test Loss for Underfitting Model')\n",
        "plt.xlabel('Epochs')\n",
        "plt.ylabel('Loss')\n",
        "plt.legend()\n",
        "plt.show()"
      ],
      "execution_count": 88,
      "outputs": [
        {
          "output_type": "display_data",
          "data": {
            "image/png": "[encoded data removed]",
            "text/plain": [
              "<Figure size 432x288 with 1 Axes>"
            ]
          },
          "metadata": {
            "tags": []
          }
        },
        {
          "output_type": "display_data",
          "data": {
            "image/png": "[encoded data removed]",
            "text/plain": [
              "<Figure size 432x288 with 1 Axes>"
            ]
          },
          "metadata": {
            "tags": []
          }
        }
      ]
    },
    {
      "cell_type": "markdown",
      "metadata": {
        "id": "AMZO23qDT0_2",
        "colab_type": "text"
      },
      "source": [
        "This model underfits mainly because it was not trained for enough epochs. Additionally, the training accuraccy appears to beginning slowing in its increase at a low accuracy rate, which is also a sign of underfitting. "
      ]
    },
    {
      "cell_type": "markdown",
      "metadata": {
        "id": "B_QD-HiDT00b",
        "colab_type": "text"
      },
      "source": [
        "## Model that overfits"
      ]
    },
    {
      "cell_type": "code",
      "metadata": {
        "id": "f3emHcYWT3cQ",
        "colab_type": "code",
        "colab": {}
      },
      "source": [
        "#set up the layers\n",
        "model_overfit = keras.Sequential([\n",
        "    keras.layers.Conv2D(100, kernel_size=3,  activation=tf.nn.relu, input_shape=(32, 32, 3)),\n",
        "    keras.layers.Flatten(),\n",
        "    keras.layers.Dense(10, activation=tf.nn.softmax)\n",
        "])"
      ],
      "execution_count": 0,
      "outputs": []
    },
    {
      "cell_type": "code",
      "metadata": {
        "id": "fciVhaUIT9Hl",
        "colab_type": "code",
        "colab": {}
      },
      "source": [
        "#compile the model\n",
        "model_overfit.compile(optimizer='adam',\n",
        "             loss='sparse_categorical_crossentropy',\n",
        "             metrics=['accuracy'])"
      ],
      "execution_count": 0,
      "outputs": []
    },
    {
      "cell_type": "code",
      "metadata": {
        "id": "wjVK9o7kT-sv",
        "colab_type": "code",
        "colab": {
          "base_uri": "https://localhost:8080/",
          "height": 714
        },
        "outputId": "0b9dedcc-e708-49fb-fa5a-28a5d8f6e25c"
      },
      "source": [
        "#train the model\n",
        "epochs_overfit = 20\n",
        "history_overfit = model_overfit.fit(train_images, \n",
        "                      train_labels, \n",
        "                      epochs=epochs_overfit,  \n",
        "                      validation_data=(test_images, test_labels))"
      ],
      "execution_count": 91,
      "outputs": [
        {
          "output_type": "stream",
          "text": [
            "Train on 50000 samples, validate on 10000 samples\n",
            "Epoch 1/20\n",
            "50000/50000 [==============================] - 75s 1ms/sample - loss: 1.4593 - acc: 0.4932 - val_loss: 1.3368 - val_acc: 0.5323\n",
            "Epoch 2/20\n",
            "50000/50000 [==============================] - 75s 1ms/sample - loss: 1.1933 - acc: 0.5880 - val_loss: 1.2473 - val_acc: 0.5688\n",
            "Epoch 3/20\n",
            "50000/50000 [==============================] - 73s 1ms/sample - loss: 1.0533 - acc: 0.6366 - val_loss: 1.2978 - val_acc: 0.5535\n",
            "Epoch 4/20\n",
            "50000/50000 [==============================] - 75s 1ms/sample - loss: 0.9124 - acc: 0.6849 - val_loss: 1.3802 - val_acc: 0.5501\n",
            "Epoch 5/20\n",
            "50000/50000 [==============================] - 78s 2ms/sample - loss: 0.7826 - acc: 0.7312 - val_loss: 1.2935 - val_acc: 0.5911\n",
            "Epoch 6/20\n",
            "50000/50000 [==============================] - 74s 1ms/sample - loss: 0.6662 - acc: 0.7711 - val_loss: 1.2783 - val_acc: 0.6066\n",
            "Epoch 7/20\n",
            "50000/50000 [==============================] - 75s 1ms/sample - loss: 0.5709 - acc: 0.8052 - val_loss: 1.3619 - val_acc: 0.5926\n",
            "Epoch 8/20\n",
            "50000/50000 [==============================] - 76s 2ms/sample - loss: 0.4800 - acc: 0.8367 - val_loss: 1.4566 - val_acc: 0.5901\n",
            "Epoch 9/20\n",
            "50000/50000 [==============================] - 78s 2ms/sample - loss: 0.4090 - acc: 0.8615 - val_loss: 1.5164 - val_acc: 0.6007\n",
            "Epoch 10/20\n",
            "50000/50000 [==============================] - 75s 2ms/sample - loss: 0.3473 - acc: 0.8858 - val_loss: 1.7114 - val_acc: 0.5758\n",
            "Epoch 11/20\n",
            "50000/50000 [==============================] - 83s 2ms/sample - loss: 0.2957 - acc: 0.9039 - val_loss: 1.8238 - val_acc: 0.5813\n",
            "Epoch 12/20\n",
            "50000/50000 [==============================] - 87s 2ms/sample - loss: 0.2530 - acc: 0.9193 - val_loss: 1.8653 - val_acc: 0.5845\n",
            "Epoch 13/20\n",
            "50000/50000 [==============================] - 85s 2ms/sample - loss: 0.2182 - acc: 0.9311 - val_loss: 1.9594 - val_acc: 0.5944\n",
            "Epoch 14/20\n",
            "50000/50000 [==============================] - 86s 2ms/sample - loss: 0.1865 - acc: 0.9430 - val_loss: 2.0571 - val_acc: 0.5927\n",
            "Epoch 15/20\n",
            "50000/50000 [==============================] - 82s 2ms/sample - loss: 0.1665 - acc: 0.9497 - val_loss: 2.1116 - val_acc: 0.5877\n",
            "Epoch 16/20\n",
            "50000/50000 [==============================] - 87s 2ms/sample - loss: 0.1431 - acc: 0.9576 - val_loss: 2.2719 - val_acc: 0.5856\n",
            "Epoch 17/20\n",
            "50000/50000 [==============================] - 89s 2ms/sample - loss: 0.1292 - acc: 0.9620 - val_loss: 2.3718 - val_acc: 0.5857\n",
            "Epoch 18/20\n",
            "50000/50000 [==============================] - 79s 2ms/sample - loss: 0.1149 - acc: 0.9680 - val_loss: 2.5708 - val_acc: 0.5813\n",
            "Epoch 19/20\n",
            "50000/50000 [==============================] - 75s 1ms/sample - loss: 0.1038 - acc: 0.9700 - val_loss: 2.5213 - val_acc: 0.5924\n",
            "Epoch 20/20\n",
            "50000/50000 [==============================] - 80s 2ms/sample - loss: 0.0902 - acc: 0.9752 - val_loss: 2.7410 - val_acc: 0.5703\n"
          ],
          "name": "stdout"
        }
      ]
    },
    {
      "cell_type": "code",
      "metadata": {
        "id": "QnNdzry3UAon",
        "colab_type": "code",
        "colab": {}
      },
      "source": [
        "#get the training history\n",
        "history_dict_overfit = history_overfit.history\n",
        "acc_values_overfit = history_dict_overfit['acc']\n",
        "test_acc_values_overfit = history_dict_overfit['val_acc']\n",
        "loss_values_overfit = history_dict_overfit['loss']\n",
        "test_loss_values_overfit = history_dict_overfit['val_loss']\n",
        "epochs_range_overfit = range(1, epochs_overfit+1)"
      ],
      "execution_count": 0,
      "outputs": []
    },
    {
      "cell_type": "code",
      "metadata": {
        "id": "_ifse8rpUEi_",
        "colab_type": "code",
        "colab": {
          "base_uri": "https://localhost:8080/",
          "height": 573
        },
        "outputId": "09f75ba2-76ec-4871-d91f-895d685f45c5"
      },
      "source": [
        "#visualize the results\n",
        "\n",
        "#accuracy\n",
        "plt.plot(epochs_range_overfit, acc_values_overfit, 'bo', label='Training accuracy')\n",
        "plt.plot(epochs_range_overfit, test_acc_values_overfit, 'ro', label='Test accuracy')\n",
        "plt.title('Training and Test Accuracy for Overfitting Model')\n",
        "plt.xlabel('Epochs')\n",
        "plt.ylabel('Accuracy')\n",
        "plt.legend()\n",
        "plt.show()\n",
        "\n",
        "#loss\n",
        "plt.plot(epochs_range_overfit, loss_values_overfit, 'bo', label='Training loss')\n",
        "plt.plot(epochs_range_overfit, test_loss_values_overfit, 'ro', label='Test loss')\n",
        "plt.title('Training and Test Loss for Overfitting Model')\n",
        "plt.xlabel('Epochs')\n",
        "plt.ylabel('Loss')\n",
        "plt.legend()\n",
        "plt.show()"
      ],
      "execution_count": 93,
      "outputs": [
        {
          "output_type": "display_data",
          "data": {
            "image/png": "[encoded data removed]",
            "text/plain": [
              "<Figure size 432x288 with 1 Axes>"
            ]
          },
          "metadata": {
            "tags": []
          }
        },
        {
          "output_type": "display_data",
          "data": {
            "image/png": "[encoded data removed]",
            "text/plain": [
              "<Figure size 432x288 with 1 Axes>"
            ]
          },
          "metadata": {
            "tags": []
          }
        }
      ]
    },
    {
      "cell_type": "markdown",
      "metadata": {
        "id": "A_6b5XaejbT5",
        "colab_type": "text"
      },
      "source": [
        "This model overfits by an extreme amount, as show by the loss actually increasing for the testing data set. This model is too complex and trains for too long. "
      ]
    },
    {
      "cell_type": "markdown",
      "metadata": {
        "id": "VvuOSJueafnI",
        "colab_type": "text"
      },
      "source": [
        "## Model that is \"pretty good\""
      ]
    },
    {
      "cell_type": "code",
      "metadata": {
        "id": "1YCxJaw0akND",
        "colab_type": "code",
        "colab": {}
      },
      "source": [
        "#set up the layers\n",
        "model = keras.Sequential([\n",
        "    keras.layers.Conv2D(32, kernel_size=3,  activation=tf.nn.relu, input_shape=(32, 32, 3)),\n",
        "    keras.layers.Conv2D(16, kernel_size=3,  activation=tf.nn.relu),\n",
        "    keras.layers.Flatten(),\n",
        "    keras.layers.Dense(10, activation=tf.nn.softmax)\n",
        "])"
      ],
      "execution_count": 0,
      "outputs": []
    },
    {
      "cell_type": "code",
      "metadata": {
        "id": "NqCMMb8EatDI",
        "colab_type": "code",
        "colab": {}
      },
      "source": [
        "#compile the model\n",
        "model.compile(optimizer='adam',\n",
        "             loss='sparse_categorical_crossentropy',\n",
        "             metrics=['accuracy'])"
      ],
      "execution_count": 0,
      "outputs": []
    },
    {
      "cell_type": "code",
      "metadata": {
        "id": "GLtSOFB6avpN",
        "colab_type": "code",
        "colab": {
          "base_uri": "https://localhost:8080/",
          "height": 374
        },
        "outputId": "58eafb4a-1976-4d6b-caad-c36fcc3272e8"
      },
      "source": [
        "#train the model\n",
        "epochs = 10\n",
        "history = model.fit(train_images, \n",
        "                      train_labels, \n",
        "                      epochs=epochs,  \n",
        "                      validation_data=(test_images, test_labels))"
      ],
      "execution_count": 102,
      "outputs": [
        {
          "output_type": "stream",
          "text": [
            "Train on 50000 samples, validate on 10000 samples\n",
            "Epoch 1/10\n",
            "50000/50000 [==============================] - 109s 2ms/sample - loss: 1.4346 - acc: 0.4903 - val_loss: 1.2288 - val_acc: 0.5645\n",
            "Epoch 2/10\n",
            "50000/50000 [==============================] - 108s 2ms/sample - loss: 1.1421 - acc: 0.6012 - val_loss: 1.1347 - val_acc: 0.5988\n",
            "Epoch 3/10\n",
            "50000/50000 [==============================] - 106s 2ms/sample - loss: 1.0221 - acc: 0.6437 - val_loss: 1.1154 - val_acc: 0.6189\n",
            "Epoch 4/10\n",
            "50000/50000 [==============================] - 106s 2ms/sample - loss: 0.9373 - acc: 0.6744 - val_loss: 1.1314 - val_acc: 0.6104\n",
            "Epoch 5/10\n",
            "50000/50000 [==============================] - 111s 2ms/sample - loss: 0.8676 - acc: 0.6981 - val_loss: 1.1255 - val_acc: 0.6128\n",
            "Epoch 6/10\n",
            "50000/50000 [==============================] - 107s 2ms/sample - loss: 0.8060 - acc: 0.7173 - val_loss: 1.1503 - val_acc: 0.6059\n",
            "Epoch 7/10\n",
            "50000/50000 [==============================] - 108s 2ms/sample - loss: 0.7460 - acc: 0.7390 - val_loss: 1.2016 - val_acc: 0.6083\n",
            "Epoch 8/10\n",
            "50000/50000 [==============================] - 108s 2ms/sample - loss: 0.6922 - acc: 0.7616 - val_loss: 1.2022 - val_acc: 0.6084\n",
            "Epoch 9/10\n",
            "50000/50000 [==============================] - 109s 2ms/sample - loss: 0.6409 - acc: 0.7775 - val_loss: 1.2770 - val_acc: 0.6019\n",
            "Epoch 10/10\n",
            "50000/50000 [==============================] - 113s 2ms/sample - loss: 0.5949 - acc: 0.7926 - val_loss: 1.3151 - val_acc: 0.5943\n"
          ],
          "name": "stdout"
        }
      ]
    },
    {
      "cell_type": "code",
      "metadata": {
        "id": "QjXP4gInawl5",
        "colab_type": "code",
        "colab": {}
      },
      "source": [
        "#get the training history\n",
        "history_dict = history.history\n",
        "acc_values = history_dict['acc']\n",
        "test_acc_values = history_dict['val_acc']\n",
        "loss_values = history_dict['loss']\n",
        "test_loss_values = history_dict['val_loss']\n",
        "epochs_range = range(1, epochs+1)"
      ],
      "execution_count": 0,
      "outputs": []
    },
    {
      "cell_type": "code",
      "metadata": {
        "id": "tzx2BQyTaz8B",
        "colab_type": "code",
        "colab": {
          "base_uri": "https://localhost:8080/",
          "height": 573
        },
        "outputId": "b41287e2-ec19-4e63-afc4-a9972a62c818"
      },
      "source": [
        "#visualize the results\n",
        "\n",
        "#accuracy\n",
        "plt.plot(epochs_range, acc_values, 'bo', label='Training accuracy')\n",
        "plt.plot(epochs_range, test_acc_values, 'ro', label='Test accuracy')\n",
        "plt.title('Training and Test Accuracy for \"Pretty Good\" Model')\n",
        "plt.xlabel('Epochs')\n",
        "plt.ylabel('Accuracy')\n",
        "plt.legend()\n",
        "plt.show()\n",
        "\n",
        "#loss\n",
        "plt.plot(epochs_range, loss_values, 'bo', label='Training loss')\n",
        "plt.plot(epochs_range, test_loss_values, 'ro', label='Test loss')\n",
        "plt.title('Training and Test Loss for \"Pretty Good\" Model')\n",
        "plt.xlabel('Epochs')\n",
        "plt.ylabel('Loss')\n",
        "plt.legend()\n",
        "plt.show()"
      ],
      "execution_count": 104,
      "outputs": [
        {
          "output_type": "display_data",
          "data": {
            "image/png": "[encoded data removed]",
            "text/plain": [
              "<Figure size 432x288 with 1 Axes>"
            ]
          },
          "metadata": {
            "tags": []
          }
        },
        {
          "output_type": "display_data",
          "data": {
            "image/png": "[encoded data removed]",
            "text/plain": [
              "<Figure size 432x288 with 1 Axes>"
            ]
          },
          "metadata": {
            "tags": []
          }
        }
      ]
    },
    {
      "cell_type": "markdown",
      "metadata": {
        "id": "D7S9dauDnlmk",
        "colab_type": "text"
      },
      "source": [
        "This model overfits to a large degree as well, but it obtains a slights higher accuracy and a slightly lower loss, and the gap between testing and training isn't as large, so it qualifies as \"pretty good\". "
      ]
    }
  ]
}