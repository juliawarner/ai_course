{
  "nbformat": 4,
  "nbformat_minor": 0,
  "metadata": {
    "colab": {
      "name": "course_summary.ipynb",
      "provenance": [],
      "collapsed_sections": [
        "snsr8vQVZDsj",
        "3jrblFUEZFtf",
        "iKZKtNTdahvZ",
        "RcPYfdZLeIk9",
        "DqnnkSJgZLCx",
        "ah4piWMFysvG",
        "prtzl8xSzFN1",
        "t5hZuPQzZOu7",
        "NvvyxDlb2BHs",
        "48V2y_8yZRJw",
        "DhPFsJCO-qsI",
        "IKX-NgPLZU89"
      ],
      "include_colab_link": true
    },
    "kernelspec": {
      "name": "python3",
      "display_name": "Python 3"
    },
    "accelerator": "GPU"
  },
  "cells": [
    {
      "cell_type": "markdown",
      "metadata": {
        "id": "view-in-github",
        "colab_type": "text"
      },
      "source": [
        "<a href=\"https://colab.research.google.com/github/juliawarner/ai_course/blob/master/hw4/course_summary.ipynb\" target=\"_parent\"><img src=\"https://colab.research.google.com/assets/colab-badge.svg\" alt=\"Open In Colab\"/></a>"
      ]
    },
    {
      "cell_type": "markdown",
      "metadata": {
        "id": "caKmQEN4Y9uj",
        "colab_type": "text"
      },
      "source": [
        "Julia Warner\n",
        "\n",
        "CAP 4630\n",
        "\n",
        "HW4"
      ]
    },
    {
      "cell_type": "markdown",
      "metadata": {
        "id": "snsr8vQVZDsj",
        "colab_type": "text"
      },
      "source": [
        "###### Imports"
      ]
    },
    {
      "cell_type": "code",
      "metadata": {
        "id": "XZgh9NwFY6GG",
        "colab_type": "code",
        "colab": {}
      },
      "source": [
        "import matplotlib.pyplot as plt\n",
        "import numpy as np"
      ],
      "execution_count": 0,
      "outputs": []
    },
    {
      "cell_type": "markdown",
      "metadata": {
        "id": "3jrblFUEZFtf",
        "colab_type": "text"
      },
      "source": [
        "# General Concepts"
      ]
    },
    {
      "cell_type": "markdown",
      "metadata": {
        "id": "HL8_xshjZbq8",
        "colab_type": "text"
      },
      "source": [
        "The most basic definition of **artificial intelligence** describes it as a branch of comupter science dedicated to creating machines/computers that are capable of simulating human intelligence. "
      ]
    },
    {
      "cell_type": "markdown",
      "metadata": {
        "id": "iKZKtNTdahvZ",
        "colab_type": "text"
      },
      "source": [
        "## Machine Learning"
      ]
    },
    {
      "cell_type": "markdown",
      "metadata": {
        "id": "6p-KecF_ajoz",
        "colab_type": "text"
      },
      "source": [
        "**Machine learning** is the branch of AI development where the program will make adjustments to itself in response to its input data. A machine learning program changes itself and learns without needed a human to manually adjust it. "
      ]
    },
    {
      "cell_type": "markdown",
      "metadata": {
        "id": "TemT0NCrbMpc",
        "colab_type": "text"
      },
      "source": [
        "There are three categories of machine learning. \n",
        "\n",
        "\n",
        "\n",
        "1.   **Supervised Learning** where the program is provided with labeled training data that it uses to make connections between the data and the labels, learning how to assign the correct label to each datum. \n",
        "2.   **Unsupervised Learning** where the program is provided with unlabeled training data, so it must create its own categories based on data features it determines are important through learning. \n",
        "3.   **Reinforcement Learning** where the program learns what the correct course of action to take is through receiving rewards for positive actions and punishments for negative actions. \n",
        "\n"
      ]
    },
    {
      "cell_type": "markdown",
      "metadata": {
        "id": "RcPYfdZLeIk9",
        "colab_type": "text"
      },
      "source": [
        "## Neural Network Basics"
      ]
    },
    {
      "cell_type": "markdown",
      "metadata": {
        "id": "Nlk2qfDGck-d",
        "colab_type": "text"
      },
      "source": [
        "Machine learning is often accomplished through the use of **neural networks**, which are programs comprised of **nodes** that input and output data and **weights** that pass the data from node to node. Learning is accomplished by changing the weights between nodes so that relevant data is given a heavier weight (greater importance) and irrelevant data is given a lower weight. The process of changing the weights of a neural network is called **training**. After the network is trained, it should produce the correct output for each given input."
      ]
    },
    {
      "cell_type": "markdown",
      "metadata": {
        "id": "MeqBbNY-eVO4",
        "colab_type": "text"
      },
      "source": [
        "![alt text](https://www.oracle.com/a/tech/img/art-neural-network-image002.png)\n",
        "\n",
        "*Image via oracle.com*"
      ]
    },
    {
      "cell_type": "markdown",
      "metadata": {
        "id": "JDalfqhUehB9",
        "colab_type": "text"
      },
      "source": [
        "The above diagram is an example of a neural network. The circles represent nodes and the arrows represent weights. Each column of nodes is called a **layer**. "
      ]
    },
    {
      "cell_type": "markdown",
      "metadata": {
        "id": "DgzmV7hLdynX",
        "colab_type": "text"
      },
      "source": [
        " **Deep Learning** is a type of machine learning referring to neural networks with many layers of nodes. "
      ]
    },
    {
      "cell_type": "markdown",
      "metadata": {
        "id": "DqnnkSJgZLCx",
        "colab_type": "text"
      },
      "source": [
        "# Building a Model"
      ]
    },
    {
      "cell_type": "markdown",
      "metadata": {
        "id": "ptdHLiq7fJBd",
        "colab_type": "text"
      },
      "source": [
        "In this section, keras will be used to create a neural network used to classify images of digits from the MNIST digit set. "
      ]
    },
    {
      "cell_type": "markdown",
      "metadata": {
        "id": "ah4piWMFysvG",
        "colab_type": "text"
      },
      "source": [
        "#### Load and prep dataset"
      ]
    },
    {
      "cell_type": "code",
      "metadata": {
        "id": "oPuA3qu_ZOWt",
        "colab_type": "code",
        "colab": {}
      },
      "source": [
        "from keras.datasets import mnist\n",
        "\n",
        "(train_images_original, train_labels_original), (test_images_original, test_labels_original) = mnist.load_data()\n",
        "\n",
        "train_images = train_images_original.reshape((60000, 28 * 28))\n",
        "train_images = train_images.astype('float32') / 255\n",
        "\n",
        "test_images = test_images_original.reshape((10000, 28 * 28))\n",
        "test_images = test_images.astype('float32') / 255\n",
        "\n",
        "from keras.utils import to_categorical\n",
        "\n",
        "train_labels = to_categorical(train_labels_original)\n",
        "test_labels = to_categorical(test_labels_original)"
      ],
      "execution_count": 0,
      "outputs": []
    },
    {
      "cell_type": "markdown",
      "metadata": {
        "id": "prtzl8xSzFN1",
        "colab_type": "text"
      },
      "source": [
        "##Adding layers"
      ]
    },
    {
      "cell_type": "markdown",
      "metadata": {
        "id": "WHH2pH-BzNMG",
        "colab_type": "text"
      },
      "source": [
        "The code below uses keras to create a sequential neural network.\n",
        "\n",
        "Each layer has a **layer type** that determines how the weights attached to the nodes in that layer behave. The network created below consists of two **dense** layers. Dense layers receive input from all of the nodes in the previous layer. \n",
        "\n",
        "Each layer also has an **activation function** that determines whether or not each node is \"activated\", meaning that it passes its data on to the next layer. The first layer uses **relu** , a basic linear activation function, and the second layer uses **softmax**, an activation function used to turn the output of the network into probability values representing how well the data fits into each classification category. \n",
        "\n",
        "Each layer also has a size that determines the number of nodes in that layer. "
      ]
    },
    {
      "cell_type": "code",
      "metadata": {
        "id": "KyrSg6sAzDSl",
        "colab_type": "code",
        "outputId": "d748ebff-8c6c-431e-81b2-f529188fc9b9",
        "colab": {
          "base_uri": "https://localhost:8080/"
        }
      },
      "source": [
        "from keras import models\n",
        "from keras import layers\n",
        "\n",
        "network = models.Sequential()\n",
        "network.add(layers.Dense(512, activation='relu', input_shape=(28 * 28,)))\n",
        "network.add(layers.Dense(10, activation='softmax'))\n",
        "network.summary()"
      ],
      "execution_count": 0,
      "outputs": [
        {
          "output_type": "stream",
          "text": [
            "Model: \"sequential_2\"\n",
            "_________________________________________________________________\n",
            "Layer (type)                 Output Shape              Param #   \n",
            "=================================================================\n",
            "dense_3 (Dense)              (None, 512)               401920    \n",
            "_________________________________________________________________\n",
            "dense_4 (Dense)              (None, 10)                5130      \n",
            "=================================================================\n",
            "Total params: 407,050\n",
            "Trainable params: 407,050\n",
            "Non-trainable params: 0\n",
            "_________________________________________________________________\n"
          ],
          "name": "stdout"
        }
      ]
    },
    {
      "cell_type": "markdown",
      "metadata": {
        "id": "v6YsJyLO0xUa",
        "colab_type": "text"
      },
      "source": [
        "Another popular layer type not used in this example is a **convolutional layer**. Convolutional layers pass filters over the data in order to detect certain features. "
      ]
    },
    {
      "cell_type": "markdown",
      "metadata": {
        "id": "-PoM2f9Z1cTD",
        "colab_type": "text"
      },
      "source": [
        "Different layer types, layer sizes, activation functions, and number of layers in your network all effect what features are detected and how they are detected. When completing a machine learning problem using a neural network, experiment with different combinations to see which works best. "
      ]
    },
    {
      "cell_type": "markdown",
      "metadata": {
        "id": "t5hZuPQzZOu7",
        "colab_type": "text"
      },
      "source": [
        "# Compiling a Model"
      ]
    },
    {
      "cell_type": "markdown",
      "metadata": {
        "id": "PicQwTCj7fCw",
        "colab_type": "text"
      },
      "source": [
        "After the model is built, it is compiled using a single line of code. "
      ]
    },
    {
      "cell_type": "code",
      "metadata": {
        "id": "G4VznKKa7aOZ",
        "colab_type": "code",
        "colab": {}
      },
      "source": [
        "network.compile(optimizer='rmsprop',\n",
        "                loss='categorical_crossentropy',\n",
        "                metrics=['accuracy'])"
      ],
      "execution_count": 0,
      "outputs": []
    },
    {
      "cell_type": "markdown",
      "metadata": {
        "id": "9biBI3uJ7j7u",
        "colab_type": "text"
      },
      "source": [
        "Three new parts of the model are introduced in this line. \n",
        "\n",
        "The **optimizer** determines the **learning rate** (explained below). Optimizers are necissary because they allow for a dynamic learning rate, which reduces the potential for overfitting. The optimizer used here is **rmsprop**, which selects a different learning rate for each parameter based on its needs, automatically adjusts those learning rates, and attempts to dampen oscillations (overshooting). Other popular optimizers are **Momentum**, which takes previous learning rates into consideration when adjusting learning rates, and **Adam**, which combines the strategies of both momentum and rmsprop. \n",
        "\n",
        "The **loss** determines how the correctness of the network's output will be determined. **Categorical crossentropy** is used for networks that produce a probability distribution as an output. It compares the probability generated for each possible category with the ground truth probability distribution, which will be 1 for the true category and 0 for all others.\n",
        "\n",
        "The **metrics** determine what the network will keep track of as it learns. **Accuracy** shows how good the model is as at correctly determining the category of the data. **Loss** represents how far off the model's output is from the ground truth output. "
      ]
    },
    {
      "cell_type": "markdown",
      "metadata": {
        "id": "NvvyxDlb2BHs",
        "colab_type": "text"
      },
      "source": [
        "## Importance of Learning Rate"
      ]
    },
    {
      "cell_type": "markdown",
      "metadata": {
        "id": "I60NWmOF2DH6",
        "colab_type": "text"
      },
      "source": [
        "The **learning rate** helps determine how much each weight will be changed each time the weights are updated. In the most basic stochastic gradient descent example, the learning rate is multiplied by the loss to determine how much the weight should change. \n",
        "\n",
        "Having a learning rate that is too high will cause the weights to change too fast and by too great an amount, resulting in overshooting and missing the best possible weight. Having a learning rate this is too low means the weights won't change by a great enough amount each time they are updated. This will cause the training to take too long. "
      ]
    },
    {
      "cell_type": "markdown",
      "metadata": {
        "id": "48V2y_8yZRJw",
        "colab_type": "text"
      },
      "source": [
        "# Training a Model"
      ]
    },
    {
      "cell_type": "markdown",
      "metadata": {
        "id": "rRoAkWsr67uq",
        "colab_type": "text"
      },
      "source": [
        "The below line of code initiates the training for the model. \n",
        "\n",
        "The **epochs** determine how long the model will train for. In each epoch, each peice of data in the training data set is passed through the network and learned from. The **batch size** determines how many peices of data are passed through the network before updating the weights. "
      ]
    },
    {
      "cell_type": "code",
      "metadata": {
        "id": "WAe4ePgs-YFu",
        "colab_type": "code",
        "outputId": "817573be-8ff7-461d-fbb0-c27a23736cd4",
        "colab": {
          "base_uri": "https://localhost:8080/",
          "height": 717
        }
      },
      "source": [
        "epochs = 10\n",
        "history = network.fit(train_images, \n",
        "                      train_labels, \n",
        "                      epochs=epochs, \n",
        "                      batch_size=128, \n",
        "                      validation_data=(test_images, test_labels))"
      ],
      "execution_count": 0,
      "outputs": [
        {
          "output_type": "stream",
          "text": [
            "WARNING:tensorflow:From /usr/local/lib/python3.6/dist-packages/tensorflow_core/python/ops/math_grad.py:1424: where (from tensorflow.python.ops.array_ops) is deprecated and will be removed in a future version.\n",
            "Instructions for updating:\n",
            "Use tf.where in 2.0, which has the same broadcast rule as np.where\n",
            "WARNING:tensorflow:From /usr/local/lib/python3.6/dist-packages/keras/backend/tensorflow_backend.py:1033: The name tf.assign_add is deprecated. Please use tf.compat.v1.assign_add instead.\n",
            "\n",
            "WARNING:tensorflow:From /usr/local/lib/python3.6/dist-packages/keras/backend/tensorflow_backend.py:1020: The name tf.assign is deprecated. Please use tf.compat.v1.assign instead.\n",
            "\n",
            "WARNING:tensorflow:From /usr/local/lib/python3.6/dist-packages/keras/backend/tensorflow_backend.py:3005: The name tf.Session is deprecated. Please use tf.compat.v1.Session instead.\n",
            "\n",
            "Train on 60000 samples, validate on 10000 samples\n",
            "Epoch 1/10\n",
            "WARNING:tensorflow:From /usr/local/lib/python3.6/dist-packages/keras/backend/tensorflow_backend.py:190: The name tf.get_default_session is deprecated. Please use tf.compat.v1.get_default_session instead.\n",
            "\n",
            "WARNING:tensorflow:From /usr/local/lib/python3.6/dist-packages/keras/backend/tensorflow_backend.py:197: The name tf.ConfigProto is deprecated. Please use tf.compat.v1.ConfigProto instead.\n",
            "\n",
            "WARNING:tensorflow:From /usr/local/lib/python3.6/dist-packages/keras/backend/tensorflow_backend.py:207: The name tf.global_variables is deprecated. Please use tf.compat.v1.global_variables instead.\n",
            "\n",
            "WARNING:tensorflow:From /usr/local/lib/python3.6/dist-packages/keras/backend/tensorflow_backend.py:216: The name tf.is_variable_initialized is deprecated. Please use tf.compat.v1.is_variable_initialized instead.\n",
            "\n",
            "WARNING:tensorflow:From /usr/local/lib/python3.6/dist-packages/keras/backend/tensorflow_backend.py:223: The name tf.variables_initializer is deprecated. Please use tf.compat.v1.variables_initializer instead.\n",
            "\n",
            "60000/60000 [==============================] - 6s 98us/step - loss: 0.2520 - acc: 0.9283 - val_loss: 0.1337 - val_acc: 0.9617\n",
            "Epoch 2/10\n",
            "60000/60000 [==============================] - 2s 25us/step - loss: 0.1037 - acc: 0.9693 - val_loss: 0.0888 - val_acc: 0.9725\n",
            "Epoch 3/10\n",
            "60000/60000 [==============================] - 2s 25us/step - loss: 0.0690 - acc: 0.9799 - val_loss: 0.0860 - val_acc: 0.9729\n",
            "Epoch 4/10\n",
            "60000/60000 [==============================] - 2s 27us/step - loss: 0.0492 - acc: 0.9855 - val_loss: 0.0744 - val_acc: 0.9774\n",
            "Epoch 5/10\n",
            "60000/60000 [==============================] - 2s 25us/step - loss: 0.0372 - acc: 0.9886 - val_loss: 0.0680 - val_acc: 0.9781\n",
            "Epoch 6/10\n",
            "60000/60000 [==============================] - 2s 25us/step - loss: 0.0284 - acc: 0.9919 - val_loss: 0.0633 - val_acc: 0.9813\n",
            "Epoch 7/10\n",
            "60000/60000 [==============================] - 2s 26us/step - loss: 0.0217 - acc: 0.9935 - val_loss: 0.0653 - val_acc: 0.9822\n",
            "Epoch 8/10\n",
            "60000/60000 [==============================] - 2s 26us/step - loss: 0.0166 - acc: 0.9950 - val_loss: 0.0706 - val_acc: 0.9810\n",
            "Epoch 9/10\n",
            "60000/60000 [==============================] - 2s 25us/step - loss: 0.0129 - acc: 0.9961 - val_loss: 0.0644 - val_acc: 0.9815\n",
            "Epoch 10/10\n",
            "60000/60000 [==============================] - 2s 26us/step - loss: 0.0100 - acc: 0.9971 - val_loss: 0.0799 - val_acc: 0.9793\n"
          ],
          "name": "stdout"
        }
      ]
    },
    {
      "cell_type": "markdown",
      "metadata": {
        "id": "DhPFsJCO-qsI",
        "colab_type": "text"
      },
      "source": [
        "## Training and Testing"
      ]
    },
    {
      "cell_type": "markdown",
      "metadata": {
        "id": "LWL1wBjP-tQ7",
        "colab_type": "text"
      },
      "source": [
        "Two sets of data are used when creating a machine learning model: the **testing data** and the **training data**. \n",
        "\n",
        "The training data is what is used to change the weights in the model. Each piece of training data is pushed through the network, the loss is evaluated, and the weights are updated accordingly. \n",
        "\n",
        "The testing data is used to evaluate the effectiveness of the model on data that it hasn't seen before. Models have a tendency to memorize the training data and overfit, meaning it won't be able to correctly categorize data that it hasn't seen. Keeping an eye on the accuracy of the model on testing data can help prevent overfitting.  "
      ]
    },
    {
      "cell_type": "markdown",
      "metadata": {
        "id": "aFp1zep8_Rze",
        "colab_type": "text"
      },
      "source": [
        "## Overfitting and Underfitting"
      ]
    },
    {
      "cell_type": "markdown",
      "metadata": {
        "id": "JndE6tsF_WEU",
        "colab_type": "text"
      },
      "source": [
        "**Overfitting** happens when a machine learning model has memorized the training data. Instead of generalizing about common features, the model recognizes each peice of training data and knows what category it belongs to. Models that overfit have a high training accuracy but a low testing accuracy. Overfitting is caused by training for too long or having a model that is too complex. \n",
        "\n",
        "**Underfitting** happens when a machine learning models cannot detect any useful features within the training data. The model is either too simple or has not been trained for long enough, so it either can't learn or didn't have a long enough time to learn anything meaningful."
      ]
    },
    {
      "cell_type": "markdown",
      "metadata": {
        "id": "3nkipocHAXaO",
        "colab_type": "text"
      },
      "source": [
        "## Analyzing the training results"
      ]
    },
    {
      "cell_type": "markdown",
      "metadata": {
        "id": "qBZSTOABDwoM",
        "colab_type": "text"
      },
      "source": [
        "It's always a good idea to create graphs of the model's accuracy and loss as training progressed. "
      ]
    },
    {
      "cell_type": "code",
      "metadata": {
        "id": "peBh088_Ah3e",
        "colab_type": "code",
        "outputId": "638c4a07-56d1-4e95-c067-d568a00c9bb6",
        "colab": {
          "base_uri": "https://localhost:8080/",
          "height": 573
        }
      },
      "source": [
        "history_dict = history.history\n",
        "loss_values = history_dict['loss']\n",
        "test_loss_values = history_dict['val_loss']\n",
        "epochs_range = range(1, epochs + 1)\n",
        "\n",
        "plt.plot(epochs_range, loss_values, 'bo', label='Training loss')\n",
        "plt.plot(epochs_range, test_loss_values, 'ro', label='Test loss')\n",
        "plt.title('Training and test loss')\n",
        "plt.xlabel('Epochs')\n",
        "plt.ylabel('Loss')\n",
        "plt.legend()\n",
        "plt.show()\n",
        "\n",
        "acc_values = history_dict['acc']\n",
        "test_acc_values = history_dict['val_acc']\n",
        "\n",
        "plt.plot(epochs_range, acc_values, 'bo', label='Training accuracy')\n",
        "plt.plot(epochs_range, test_acc_values, 'ro', label='Test accuracy')\n",
        "plt.title('Training and test accuracy')\n",
        "plt.xlabel('Epochs')\n",
        "plt.ylabel('Accuracy')\n",
        "plt.legend()\n",
        "plt.show()"
      ],
      "execution_count": 0,
      "outputs": [
        {
          "output_type": "display_data",
          "data": {
            "image/png": "[encoded data removed]",
            "text/plain": [
              "<Figure size 432x288 with 1 Axes>"
            ]
          },
          "metadata": {
            "tags": []
          }
        },
        {
          "output_type": "display_data",
          "data": {
            "image/png": "[encoded data removed]",
            "text/plain": [
              "<Figure size 432x288 with 1 Axes>"
            ]
          },
          "metadata": {
            "tags": []
          }
        }
      ]
    },
    {
      "cell_type": "markdown",
      "metadata": {
        "id": "xjqZTpd1EEIW",
        "colab_type": "text"
      },
      "source": [
        "The graphs show a good amount of improvement for both loss and accuracy as the training progressed. Towards the end, the gap between the training and testing accuracy/loss started to increase. Training accuracy/loss continued to improve while it stagnated for the testing data. This is an indication of slight overfitting. "
      ]
    },
    {
      "cell_type": "markdown",
      "metadata": {
        "id": "IKX-NgPLZU89",
        "colab_type": "text"
      },
      "source": [
        "# Finetuning a Pretrained Model"
      ]
    },
    {
      "cell_type": "markdown",
      "metadata": {
        "id": "eJGWd18WjScI",
        "colab_type": "text"
      },
      "source": [
        "The process of finetuning a pretrained model includes two steps: feature extraction and the actual finetuning itself. "
      ]
    },
    {
      "cell_type": "markdown",
      "metadata": {
        "id": "iKSsLd6fhpmB",
        "colab_type": "text"
      },
      "source": [
        "## Feature Extraction"
      ]
    },
    {
      "cell_type": "markdown",
      "metadata": {
        "id": "RpEUbwJujZJJ",
        "colab_type": "text"
      },
      "source": [
        "**Feature Extraction** is the process of using the features detected in a pretrained model as a basis for your new model. \n",
        "\n",
        "Feature extraction is accomplished as follows:\n",
        "\n",
        "\n",
        "1.   Obtain a pre-trained model. Even if the model is detecting something completely different from what you're trying to detect, the intermediate layers before the final classification layers learn useful data features that can be applied to your goals. \n",
        "2.   Remove the top classification layers of the pre-trained model. \n",
        "3.   Freeze the layers of the pre-trained model. The weights on those layers are already set to effectively detect features, so you don't want to change them with new training just yet. \n",
        "4.   Add your own classification layers on top of the pre-trained base. The pre-trained base model will pass its features to your classification layers, helping your model attain better accuracy. \n",
        "5.   Train your model. The weights for your classifier will update and make use of the features extracted from the data by the pre-trained model. This will ensure better model accuracy than creating a model completely from scratch. \n",
        "\n",
        "After completing the deature extraction training, continue on to finetuning. \n",
        "\n"
      ]
    },
    {
      "cell_type": "markdown",
      "metadata": {
        "id": "ANWIIaxlkwMB",
        "colab_type": "text"
      },
      "source": [
        "##Finetuning"
      ]
    },
    {
      "cell_type": "markdown",
      "metadata": {
        "id": "SSIAQLD9k0uA",
        "colab_type": "text"
      },
      "source": [
        "**Finetuning** is the process of re-training the top layers of the pretrained model so that they are better fitted to your purposes. \n",
        "\n",
        "Finetuning is accomplished as follows:\n",
        "\n",
        "\n",
        "1.   Only finetune a model that has gone through the feature extraction process. If you were to finetune with your untrained classifier on top of the pretrained model, the weights would be off due to the randomization of weights in the untrained classifier. \n",
        "2.   Unfreeze the top layers of the pretrained model. Leave the lower layers untrainable because those layers detect useful general features. Only the upper level layers should be retrained because they are used to detect higher-level, specific features. \n",
        "3.   Retrain the model. The weights of the upper layers of the pre-trained model and those of your classifier will be altered. This will create better learning of specific features relevant to your classifier and improve accuracy. \n",
        "\n",
        "Once the fintuning process is complete, you model will have greater accuracy than a model created from scratch without feature exprection or finetuning. \n",
        "\n"
      ]
    }
  ]
}